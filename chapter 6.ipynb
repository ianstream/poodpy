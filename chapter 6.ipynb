{
 "cells": [
  {
   "cell_type": "markdown",
   "metadata": {},
   "source": [
    "6.1 고전전 상속\n",
    "상속 = 자동화된 메세지 전달 시스템\n",
    "\n",
    ".."
   ]
  },
  {
   "cell_type": "markdown",
   "metadata": {},
   "source": [
    "6.2 상속을 사용해야 하는 지점을 알기 \n",
    "\n",
    "<img src=\"img/chap6/EPS_11sp.jpeg\", width=50%;>\n",
    "[Road Info](http://www.bianchi.com/global/bikes/bikes_detail.aspx?rangeIDMaster=344898&categoryIDMaster=344903&bikeIDMaster=345366)"
   ]
  },
  {
   "cell_type": "markdown",
   "metadata": {
    "collapsed": true
   },
   "source": [
    "6.2.1 구체 클래스에서 시작하기\n",
    "- 크기, 핸들바 테이프 색, 타이어 크기, 체인 종류\n",
    "- 필수 부품과 여분 부품"
   ]
  },
  {
   "cell_type": "code",
   "execution_count": 109,
   "metadata": {
    "collapsed": true
   },
   "outputs": [],
   "source": [
    "class Bicycle:\n",
    "    _size = ''\n",
    "    _tape_color = ''\n",
    "    \n",
    "    def __init__(self, **kwargs):\n",
    "        self._size = kwargs.get('size', '')\n",
    "        self._tape_color = kwargs.get('tape_color', '')\n",
    "    \n",
    "    def spares(self):\n",
    "        \"\"\"\n",
    "        모든 자전거는 동일한 크기이며 타이어와 체인을 기본값으로 갖는다\n",
    "        \"\"\"\n",
    "        self._chain = '11-speed'\n",
    "        self._tire_size = '25'\n",
    "        self._tape_color = 'black'\n",
    "    \n",
    "    def __str__(self):\n",
    "        print('chain:{} size:{} tape_color:{}'.format(self._chain, self._size, self._tape_color))"
   ]
  },
  {
   "cell_type": "code",
   "execution_count": 110,
   "metadata": {
    "collapsed": false
   },
   "outputs": [],
   "source": [
    "bike = Bicycle(size='M', tape_color='red')"
   ]
  },
  {
   "cell_type": "code",
   "execution_count": 111,
   "metadata": {
    "collapsed": false
   },
   "outputs": [
    {
     "data": {
      "text/plain": [
       "'M'"
      ]
     },
     "execution_count": 111,
     "metadata": {},
     "output_type": "execute_result"
    }
   ],
   "source": [
    "bike._size"
   ]
  },
  {
   "cell_type": "code",
   "execution_count": 112,
   "metadata": {
    "collapsed": false
   },
   "outputs": [],
   "source": [
    "bike.spares()"
   ]
  },
  {
   "cell_type": "code",
   "execution_count": 113,
   "metadata": {
    "collapsed": false
   },
   "outputs": [
    {
     "name": "stdout",
     "output_type": "stream",
     "text": [
      "chain:11-speed size:M tape_color:black\n"
     ]
    }
   ],
   "source": [
    "bike.__str__()"
   ]
  },
  {
   "cell_type": "markdown",
   "metadata": {},
   "source": [
    "마운틴 바이크\n",
    "<img src=\"img/chap6/XT_2x11sp.jpeg\", width=50%;> \n",
    "[MTB Info](http://www.bianchi.com/global/bikes/bikes_detail.aspx?rangeIDMaster=344898&categoryIDMaster=344902&bikeIDMaster=345577)\n",
    "\n",
    "- 일자바, 프론트/리어 서스펜션"
   ]
  },
  {
   "cell_type": "markdown",
   "metadata": {},
   "source": [
    "6.2.2 자전거 종류 추가하기 "
   ]
  },
  {
   "cell_type": "code",
   "execution_count": 122,
   "metadata": {
    "collapsed": true
   },
   "outputs": [],
   "source": [
    "class Bicycle:\n",
    "    _style = ''\n",
    "    _chain = ''\n",
    "    _size = ''\n",
    "    _tape_color = ''\n",
    "    _tire_size = ''\n",
    "    _font_shock = ''\n",
    "    _rear_shock = ''\n",
    "    \n",
    "    def __init__(self, **kwargs):\n",
    "        self._style = kwargs.get('style', '')\n",
    "        self._size = kwargs.get('size', '')\n",
    "        self._tape_color = kwargs.get('tape_color', '')\n",
    "        self._front_shock = kwargs.get('front_shock', '')\n",
    "        self._rear_shock = kwargs.get('rear_shock', '')\n",
    "    \n",
    "    def spares(self):\n",
    "        \"\"\"\n",
    "        style 을 체크하면서 안 좋은 길로..\n",
    "        \"\"\"\n",
    "        if self._style == 'road':\n",
    "            self._chain = '11-speed'\n",
    "            self._tire_size = '25'  # mm\n",
    "            self._tape_color = 'tape_color'\n",
    "        else:\n",
    "            self._chain = '11-speed'\n",
    "            self._tire_size = '2.05'  # inch\n",
    "            self._rear_shock = 'Fox Float DPS Performance Elite Remote'\n",
    "    \n",
    "#     def merge(self, **kwargs):\n",
    "#         self._rear_shock = kwargs.get('rear_shock', '')\n",
    "    \n",
    "    def __str__(self):\n",
    "        print('size:{} chain:{} size:{} tape_color:{} tire_size{} f/s:{} r/s:{}'.format(\n",
    "                self._style, self._chain, self._size, self._tape_color, \n",
    "                self._tire_size, self._front_shock, self._rear_shock))"
   ]
  },
  {
   "cell_type": "code",
   "execution_count": 123,
   "metadata": {
    "collapsed": false
   },
   "outputs": [],
   "source": [
    "bike = Bicycle(style='road', size='L', front_shock='Fox', rear_shock='Fox')"
   ]
  },
  {
   "cell_type": "code",
   "execution_count": 124,
   "metadata": {
    "collapsed": false
   },
   "outputs": [
    {
     "name": "stdout",
     "output_type": "stream",
     "text": [
      "size:road chain: size:L tape_color: tire_size f/s:Fox r/s:Fox\n"
     ]
    }
   ],
   "source": [
    "bike.__str__()"
   ]
  },
  {
   "cell_type": "code",
   "execution_count": 125,
   "metadata": {
    "collapsed": true
   },
   "outputs": [],
   "source": [
    "bike.spares()"
   ]
  },
  {
   "cell_type": "code",
   "execution_count": 126,
   "metadata": {
    "collapsed": false
   },
   "outputs": [
    {
     "name": "stdout",
     "output_type": "stream",
     "text": [
      "size:road chain:11-speed size:L tape_color:tape_color tire_size25 f/s:Fox r/s:Fox\n"
     ]
    }
   ],
   "source": [
    "bike.__str__()"
   ]
  },
  {
   "cell_type": "markdown",
   "metadata": {},
   "source": [
    "6.2.3 숨겨진 타입 찾아내기 \n",
    "- style 은 Bicycle 을 구분하는 속성\n",
    "- 상속으로 해결\n",
    "\n",
    "6.2.4 상속을 선택하기 \n",
    "- 단일 상속\n",
    "\n",
    "6.2.5 상속 관계 그리기\n",
    "\n"
   ]
  },
  {
   "cell_type": "markdown",
   "metadata": {},
   "source": [
    "6.3 상속의 잘못된 사용"
   ]
  },
  {
   "cell_type": "code",
   "execution_count": 154,
   "metadata": {
    "collapsed": true
   },
   "outputs": [],
   "source": [
    "class MountainBike(Bicycle):\n",
    "    def __init__(self, **kwargs):\n",
    "        self._front_shock = kwargs.get('front_shock', '')\n",
    "        self._rear_shock = kwargs.get('rear_shock', '')\n",
    "        super().__init__(**kwargs)\n",
    "        \n",
    "    def spares(self, kwargs):\n",
    "        super().spares(**kwargs)\n",
    "    "
   ]
  },
  {
   "cell_type": "code",
   "execution_count": 155,
   "metadata": {
    "collapsed": false
   },
   "outputs": [],
   "source": [
    "mtb = MountainBike(size='S', front_shock='FOX elite', rear_shock='FOX')"
   ]
  },
  {
   "cell_type": "code",
   "execution_count": 156,
   "metadata": {
    "collapsed": false
   },
   "outputs": [
    {
     "data": {
      "text/plain": [
       "'<__main__.MountainBike object at 0x10baf7048>'"
      ]
     },
     "execution_count": 156,
     "metadata": {},
     "output_type": "execute_result"
    }
   ],
   "source": [
    "mtb.__str__()"
   ]
  },
  {
   "cell_type": "code",
   "execution_count": 157,
   "metadata": {
    "collapsed": false
   },
   "outputs": [
    {
     "ename": "TypeError",
     "evalue": "spares() got an unexpected keyword argument 'tire_size'",
     "output_type": "error",
     "traceback": [
      "\u001b[0;31m---------------------------------------------------------------------------\u001b[0m",
      "\u001b[0;31mTypeError\u001b[0m                                 Traceback (most recent call last)",
      "\u001b[0;32m<ipython-input-157-5b7cb6cf7c13>\u001b[0m in \u001b[0;36m<module>\u001b[0;34m()\u001b[0m\n\u001b[0;32m----> 1\u001b[0;31m \u001b[0mmtb\u001b[0m\u001b[0;34m.\u001b[0m\u001b[0mspares\u001b[0m\u001b[0;34m(\u001b[0m\u001b[0mtire_size\u001b[0m\u001b[0;34m=\u001b[0m\u001b[0;34m'23'\u001b[0m\u001b[0;34m,\u001b[0m \u001b[0mchain\u001b[0m\u001b[0;34m=\u001b[0m\u001b[0;34m'10-speed'\u001b[0m\u001b[0;34m,\u001b[0m \u001b[0mtape_color\u001b[0m\u001b[0;34m=\u001b[0m\u001b[0;32mNone\u001b[0m\u001b[0;34m,\u001b[0m \u001b[0mfron_shock\u001b[0m\u001b[0;34m=\u001b[0m\u001b[0;34m'FOX elite'\u001b[0m\u001b[0;34m,\u001b[0m \u001b[0mrear_shock\u001b[0m\u001b[0;34m=\u001b[0m\u001b[0;34m'FOX'\u001b[0m\u001b[0;34m)\u001b[0m\u001b[0;34m\u001b[0m\u001b[0m\n\u001b[0m",
      "\u001b[0;31mTypeError\u001b[0m: spares() got an unexpected keyword argument 'tire_size'"
     ]
    }
   ],
   "source": [
    "mtb.spares(tire_size='23', chain='10-speed', tape_color=None, fron_shock='FOX elite', rear_shock='FOX')"
   ]
  },
  {
   "cell_type": "markdown",
   "metadata": {},
   "source": [
    "6.4 추상화 찾아내기 \n",
    "- 하위 클래스는 상위 클래스의 특수한 형태\n",
    "- 하위 클래스는 상위 클래스의 모든 행동을 가지고 추가적인 행동을 더 가지고 있는다\n",
    "- 상위 클래스와 협업할 수 있는 모든 객체는 하위 클래스에 대해 아무것도 모른채 하위 클래스와 협업할 수 있어야 한다\n",
    "\n",
    "6.4.1 추상화된 상위 클래스 만들기 \n",
    "- 추상 클래스는 상속받기 위해 존재한다\n",
    "- 상속 관계를 만들지 말지를 선택하는 것은 \n",
    " 1. 세 번째 종류의 자전거가 얼마나 빨리 필요하게 될지\n",
    " 2. 중복 코드를 관리하는 비용이 얼마인지\n",
    " \n",
    "~~~~\n",
    "class Bicycle:\n",
    "    # 여기 있던 코드는 roadbike 로\n",
    "\n",
    "class RoadBike(Bicycle):\n",
    "    # 하위 클래스. 기존 Bicycle 클래스의 모든 코드를 갖고 있다\n",
    "\n",
    "class MountainBike(Bicycle):\n",
    "    # Bicycle 의 하위클래스. 코드가 수정되지 않았다.\n",
    "~~~~ \n",
    " \n",
    "- 하위 클래스의 코드를 상위 클래스로 옮기는 것이 그 반대의 경우보다 수월하다\n",
    " \n",
    " \n",
    "6.4.2 추상적인 행동을 위로 올리기 \n",
    "\n",
    "- size, spares 는 공통 메서드 -> 퍼블릭 인터페이스\n",
    "\n",
    "~~~~\n",
    "class Bicycle:\n",
    "    def __init__(self, **kwargs):\n",
    "        self._size = kwargs.get('size', '')  # from roadbike\n",
    "    \n",
    "class RoadBike(Bicycle):\n",
    "    def __init__(self, **kwargs):\n",
    "        self._tape_color = kwargs.get('tape_color', '')\n",
    "        super().__init__(**kwargs)\n",
    "~~~~\n",
    " \n",
    "- RoadBike 의 size 는 Bicycle 로부터 상속 받는다\n",
    "- 이번 수정으로 MTB 도 size 를 사용할 수 있게 되었다\n",
    "- '모두 아내로 내리고 그 다음에 필요한 것만 위로 올리기' 전략이 이번 리팩토링의 핵심\n",
    "- 이 전략은 실패시에도 수정하기 쉬운 문제를 발생시킨다\n",
    "- 즉, 구체적인 것을 내리기 보다는 추상적인 것을 끌어올리는 방식을 취하자"
   ]
  },
  {
   "cell_type": "code",
   "execution_count": 159,
   "metadata": {
    "collapsed": true
   },
   "outputs": [],
   "source": [
    "class Bicycle:\n",
    "    def __init__(self, **kwargs):\n",
    "        self._size = kwargs.get('size', '')  # from roadbike\n",
    "    \n",
    "class RoadBike(Bicycle):\n",
    "    def __init__(self, **kwargs):\n",
    "        self._tape_color = kwargs.get('tape_color', '')\n",
    "        super().__init__(**kwargs)\n",
    "        "
   ]
  },
  {
   "cell_type": "code",
   "execution_count": 160,
   "metadata": {
    "collapsed": false
   },
   "outputs": [],
   "source": [
    "road = RoadBike(size='S', tape_color='red')"
   ]
  },
  {
   "cell_type": "code",
   "execution_count": 161,
   "metadata": {
    "collapsed": false
   },
   "outputs": [
    {
     "data": {
      "text/plain": [
       "('S', 'red')"
      ]
     },
     "execution_count": 161,
     "metadata": {},
     "output_type": "execute_result"
    }
   ],
   "source": [
    "road._size, road._tape_color"
   ]
  },
  {
   "cell_type": "code",
   "execution_count": 162,
   "metadata": {
    "collapsed": false
   },
   "outputs": [],
   "source": [
    "mtb = MountainBike(size='S', front_shock='FOX', rear_shock='FOX')"
   ]
  },
  {
   "cell_type": "code",
   "execution_count": 163,
   "metadata": {
    "collapsed": false
   },
   "outputs": [
    {
     "data": {
      "text/plain": [
       "'S'"
      ]
     },
     "execution_count": 163,
     "metadata": {},
     "output_type": "execute_result"
    }
   ],
   "source": [
    "mtb._size"
   ]
  },
  {
   "cell_type": "markdown",
   "metadata": {},
   "source": [
    "6.4.3. 구체적인 것들 속에서 추상적인 것 분리해내기 "
   ]
  },
  {
   "cell_type": "code",
   "execution_count": 164,
   "metadata": {
    "collapsed": true
   },
   "outputs": [],
   "source": [
    "class RoadBike(Bicycle):\n",
    "    def __init__(self, **kwargs):\n",
    "        self._tape_color = kwargs.get('tape_color', '')\n",
    "        super().__init__(**kwargs)\n",
    "    \n",
    "    def spares(selk):\n",
    "        self._chain = '10-speed'\n",
    "        self._tire_size = '23'\n",
    "        self._tape_color = 'pink'\n",
    "        "
   ]
  },
  {
   "cell_type": "code",
   "execution_count": 165,
   "metadata": {
    "collapsed": true
   },
   "outputs": [],
   "source": [
    "class MountainBike(Bicycle):\n",
    "    def __init__(self, **kwargs):\n",
    "        self._front_shock = kwargs.get('front_shock', '')\n",
    "        self._rear_shock = kwargs.get('rear_shock', '')\n",
    "        super().__init__(**kwargs)\n",
    "        \n",
    "    def spares(self, kwargs):\n",
    "        super().spares(**kwargs)\n",
    "    "
   ]
  },
  {
   "cell_type": "code",
   "execution_count": 166,
   "metadata": {
    "collapsed": true
   },
   "outputs": [],
   "source": [
    "mtb = MountainBike()"
   ]
  },
  {
   "cell_type": "code",
   "execution_count": 169,
   "metadata": {
    "collapsed": false
   },
   "outputs": [
    {
     "ename": "TypeError",
     "evalue": "spares() got an unexpected keyword argument 'size'",
     "output_type": "error",
     "traceback": [
      "\u001b[0;31m---------------------------------------------------------------------------\u001b[0m",
      "\u001b[0;31mTypeError\u001b[0m                                 Traceback (most recent call last)",
      "\u001b[0;32m<ipython-input-169-f80cfebc9937>\u001b[0m in \u001b[0;36m<module>\u001b[0;34m()\u001b[0m\n\u001b[1;32m      1\u001b[0m \u001b[0;31m# 상위 클래스에 spares 가 없으므로 발생\u001b[0m\u001b[0;34m\u001b[0m\u001b[0;34m\u001b[0m\u001b[0m\n\u001b[0;32m----> 2\u001b[0;31m \u001b[0mmtb\u001b[0m\u001b[0;34m.\u001b[0m\u001b[0mspares\u001b[0m\u001b[0;34m(\u001b[0m\u001b[0msize\u001b[0m\u001b[0;34m=\u001b[0m\u001b[0;34m'S'\u001b[0m\u001b[0;34m)\u001b[0m\u001b[0;34m\u001b[0m\u001b[0m\n\u001b[0m",
      "\u001b[0;31mTypeError\u001b[0m: spares() got an unexpected keyword argument 'size'"
     ]
    }
   ],
   "source": [
    "# 상위 클래스에 spares 가 없으므로 발생\n",
    "mtb.spares(size='S')"
   ]
  },
  {
   "cell_type": "markdown",
   "metadata": {},
   "source": [
    "- roadbike 의 spares 는 너무 많은 것을 알고 있다. chain, tire_size 는 공통이지만, tape_color 는 로드바이크만 알면 된\n",
    "- 추상적인 것은 Bicycle 로, 구체적인 것은 RoadBike 에 있어야 한다\n",
    "- 결론은..\n",
    " 1. Bicycle 은 chain, tire size 를 가진다\n",
    " 2. 모든 자전거는 chain 의 기본값을 공유한다\n",
    " 3. 하위 클래스는 자신만의 tire size 기본값을 가진다\n",
    " 4. 하위 클래스의 구체적인 인스턴스는 기본값을 무시하고 인스턴스 고유의 값을 설정할 수 있다"
   ]
  },
  {
   "cell_type": "code",
   "execution_count": 171,
   "metadata": {
    "collapsed": true
   },
   "outputs": [],
   "source": [
    "# 1, 2 번 항목의 구현\n",
    "class Bicycle:\n",
    "    def __init__(self, **kwargs):\n",
    "        self._size = kwargs.get('size', '')\n",
    "        self._chain = kwargs.get('chain', '')\n",
    "        self._tire_size = kwargs.get('tire_size', '')"
   ]
  },
  {
   "cell_type": "markdown",
   "metadata": {
    "collapsed": true
   },
   "source": [
    "6.4.4 템플릿 메서드 패턴 사용하기 \n",
    "\n",
    "- 기본값을 메서드로 감싸는 대신 대른 방법을 사용해본다\n",
    "- 기본 구조를 상위 클래스에서 정의하고 상위 클래스에서 메세지를 전송하여 하위 클래스의 특수한 값을 얻는 '템플릿 메서드 패턴' 을 사용해보자\n"
   ]
  },
  {
   "cell_type": "code",
   "execution_count": 185,
   "metadata": {
    "collapsed": true
   },
   "outputs": [],
   "source": [
    "# 1, 2 번 항목의 구현\n",
    "class Bicycle:\n",
    "    def __init__(self, **kwargs):\n",
    "        self._size = kwargs.get('size', '')\n",
    "        self._chain = kwargs.get('chain', self.default_chain)\n",
    "        self._tire_size = kwargs.get('tire_size', self.default_tire_size)\n",
    "    \n",
    "    @property\n",
    "    def default_chain(self):\n",
    "        return '10-speed'\n",
    "    \n",
    "    @property\n",
    "    def default_tire_size(self):\n",
    "        return None\n",
    "    \n",
    "    \n",
    "class RoadBike(Bicycle):\n",
    "    def __init__(self, **kwargs):\n",
    "        self._tape_color = kwargs.get('tape_color', '')\n",
    "        super().__init__(**kwargs)\n",
    "    \n",
    "    @property\n",
    "    def default_tire_size(self):\n",
    "        return '23'\n",
    "\n",
    "    \n",
    "class MountainBike(Bicycle):\n",
    "    def __init__(self, **kwargs):\n",
    "        self._front_shock = kwargs.get('front_shock', '')\n",
    "        self._rear_shock = kwargs.get('rear_shock', '')\n",
    "        super().__init__(**kwargs)\n",
    "        \n",
    "    @property\n",
    "    def default_tire_size(self):\n",
    "        return '2.1'\n",
    "    "
   ]
  },
  {
   "cell_type": "code",
   "execution_count": 186,
   "metadata": {
    "collapsed": false
   },
   "outputs": [],
   "source": [
    "bicycle = Bicycle()"
   ]
  },
  {
   "cell_type": "code",
   "execution_count": 187,
   "metadata": {
    "collapsed": false
   },
   "outputs": [
    {
     "data": {
      "text/plain": [
       "'10-speed'"
      ]
     },
     "execution_count": 187,
     "metadata": {},
     "output_type": "execute_result"
    }
   ],
   "source": [
    "bicycle._chain"
   ]
  },
  {
   "cell_type": "code",
   "execution_count": 190,
   "metadata": {
    "collapsed": true
   },
   "outputs": [],
   "source": [
    "road = RoadBike(size='M', tape_color='pink')"
   ]
  },
  {
   "cell_type": "code",
   "execution_count": 192,
   "metadata": {
    "collapsed": false
   },
   "outputs": [
    {
     "data": {
      "text/plain": [
       "('23', 'M', 'pink')"
      ]
     },
     "execution_count": 192,
     "metadata": {},
     "output_type": "execute_result"
    }
   ],
   "source": [
    "road._tire_size, road._size, road._tape_color"
   ]
  },
  {
   "cell_type": "markdown",
   "metadata": {
    "collapsed": true
   },
   "source": [
    "6.5.4 모든 템플릿 메서드 구현하기 \n",
    "\n",
    "- 위의 구현 방식은 ruby 와 python 의 차이점으로 보임\n",
    "- 이미 위에서 모든 템플릿 메서드를 구현했으므로 이 부분은 스킵\n"
   ]
  },
  {
   "cell_type": "markdown",
   "metadata": {},
   "source": [
    "6.5 상위 클래스와 하위 클래스 사이의 커플링 관리하기 \n",
    "6.5.1 커플링 이해하기 \n",
    "\n",
    "~~~~\n",
    "class RoadBike(Bicycle):\n",
    "    # ...\n",
    "    def spares(self):\n",
    "        self._chain = '10-speed'\n",
    "        self._tire_size = '23'\n",
    "        self._tape_color = 'red'\n",
    "\n",
    "~~~~\n",
    "\n",
    "- 자전거의 기본 정보와 특정 타입의 자전거가 가지는 정보가 혼합되어 있다\n",
    "- 현재 구현은 아래와 같다\n",
    "\n",
    "~~~~\n",
    "class MountainBike(Bicycle):\n",
    "    # ...    \n",
    "    def spares(self):\n",
    "        self._rear_shock = 'Fox'\n",
    "        super().spares()\n",
    "    \n",
    "~~~~\n",
    "\n",
    "- MountainBike spares 메서드는 super 를 전송한다.\n"
   ]
  },
  {
   "cell_type": "code",
   "execution_count": 197,
   "metadata": {
    "collapsed": true
   },
   "outputs": [],
   "source": [
    "class Bicycle:\n",
    "    def __init__(self, **kwargs):\n",
    "        self._size = kwargs.get('size', '')\n",
    "        self._chain = kwargs.get('chain', self.default_chain)\n",
    "        self._tire_size = kwargs.get('tire_size', self.default_tire_size)\n",
    "    \n",
    "    @property\n",
    "    def default_chain(self):\n",
    "        return '10-speed'\n",
    "    \n",
    "    @property\n",
    "    def default_tire_size(self):\n",
    "        raise NotImplementedError(\"This {} cannot respond to\".format(self.__class__))\n",
    "    \n",
    "    def spares(self):\n",
    "        self._tire_size = '21'\n",
    "        self._chain = '10-speed'\n",
    "        \n",
    "    \n",
    "class RoadBike(Bicycle):\n",
    "    def __init__(self, **kwargs):\n",
    "        self._tape_color = kwargs.get('tape_color', '')\n",
    "        super().__init__(**kwargs)\n",
    "    \n",
    "    @property\n",
    "    def default_tire_size(self):\n",
    "        return '23'\n",
    "    \n",
    "    def spares(self):\n",
    "        self._tape_color = 'pink'\n",
    "        super().spares()\n",
    "        \n",
    "    \n",
    "class MountainBike(Bicycle):\n",
    "    def __init__(self, **kwargs):\n",
    "        self._front_shock = kwargs.get('front_shock', '')\n",
    "        self._rear_shock = kwargs.get('rear_shock', '')\n",
    "        super().__init__(**kwargs)\n",
    "        \n",
    "    @property\n",
    "    def default_tire_size(self):\n",
    "        return '2.1'\n",
    "    \n",
    "    def spares(self):\n",
    "        self._rear_shock = 'Fox'\n",
    "        super().spares()"
   ]
  },
  {
   "cell_type": "code",
   "execution_count": 198,
   "metadata": {
    "collapsed": false
   },
   "outputs": [
    {
     "ename": "NotImplementedError",
     "evalue": "This <class '__main__.Bicycle'> cannot respond to",
     "output_type": "error",
     "traceback": [
      "\u001b[0;31m---------------------------------------------------------------------------\u001b[0m",
      "\u001b[0;31mNotImplementedError\u001b[0m                       Traceback (most recent call last)",
      "\u001b[0;32m<ipython-input-198-8add4b20faf5>\u001b[0m in \u001b[0;36m<module>\u001b[0;34m()\u001b[0m\n\u001b[0;32m----> 1\u001b[0;31m \u001b[0mbike\u001b[0m \u001b[0;34m=\u001b[0m \u001b[0mBicycle\u001b[0m\u001b[0;34m(\u001b[0m\u001b[0;34m)\u001b[0m\u001b[0;34m\u001b[0m\u001b[0m\n\u001b[0m",
      "\u001b[0;32m<ipython-input-197-752f7da068e2>\u001b[0m in \u001b[0;36m__init__\u001b[0;34m(self, **kwargs)\u001b[0m\n\u001b[1;32m      3\u001b[0m         \u001b[0mself\u001b[0m\u001b[0;34m.\u001b[0m\u001b[0m_size\u001b[0m \u001b[0;34m=\u001b[0m \u001b[0mkwargs\u001b[0m\u001b[0;34m.\u001b[0m\u001b[0mget\u001b[0m\u001b[0;34m(\u001b[0m\u001b[0;34m'size'\u001b[0m\u001b[0;34m,\u001b[0m \u001b[0;34m''\u001b[0m\u001b[0;34m)\u001b[0m\u001b[0;34m\u001b[0m\u001b[0m\n\u001b[1;32m      4\u001b[0m         \u001b[0mself\u001b[0m\u001b[0;34m.\u001b[0m\u001b[0m_chain\u001b[0m \u001b[0;34m=\u001b[0m \u001b[0mkwargs\u001b[0m\u001b[0;34m.\u001b[0m\u001b[0mget\u001b[0m\u001b[0;34m(\u001b[0m\u001b[0;34m'chain'\u001b[0m\u001b[0;34m,\u001b[0m \u001b[0mself\u001b[0m\u001b[0;34m.\u001b[0m\u001b[0mdefault_chain\u001b[0m\u001b[0;34m)\u001b[0m\u001b[0;34m\u001b[0m\u001b[0m\n\u001b[0;32m----> 5\u001b[0;31m         \u001b[0mself\u001b[0m\u001b[0;34m.\u001b[0m\u001b[0m_tire_size\u001b[0m \u001b[0;34m=\u001b[0m \u001b[0mkwargs\u001b[0m\u001b[0;34m.\u001b[0m\u001b[0mget\u001b[0m\u001b[0;34m(\u001b[0m\u001b[0;34m'tire_size'\u001b[0m\u001b[0;34m,\u001b[0m \u001b[0mself\u001b[0m\u001b[0;34m.\u001b[0m\u001b[0mdefault_tire_size\u001b[0m\u001b[0;34m)\u001b[0m\u001b[0;34m\u001b[0m\u001b[0m\n\u001b[0m\u001b[1;32m      6\u001b[0m \u001b[0;34m\u001b[0m\u001b[0m\n\u001b[1;32m      7\u001b[0m     \u001b[0;34m@\u001b[0m\u001b[0mproperty\u001b[0m\u001b[0;34m\u001b[0m\u001b[0m\n",
      "\u001b[0;32m<ipython-input-197-752f7da068e2>\u001b[0m in \u001b[0;36mdefault_tire_size\u001b[0;34m(self)\u001b[0m\n\u001b[1;32m     11\u001b[0m     \u001b[0;34m@\u001b[0m\u001b[0mproperty\u001b[0m\u001b[0;34m\u001b[0m\u001b[0m\n\u001b[1;32m     12\u001b[0m     \u001b[0;32mdef\u001b[0m \u001b[0mdefault_tire_size\u001b[0m\u001b[0;34m(\u001b[0m\u001b[0mself\u001b[0m\u001b[0;34m)\u001b[0m\u001b[0;34m:\u001b[0m\u001b[0;34m\u001b[0m\u001b[0m\n\u001b[0;32m---> 13\u001b[0;31m         \u001b[0;32mraise\u001b[0m \u001b[0mNotImplementedError\u001b[0m\u001b[0;34m(\u001b[0m\u001b[0;34m\"This {} cannot respond to\"\u001b[0m\u001b[0;34m.\u001b[0m\u001b[0mformat\u001b[0m\u001b[0;34m(\u001b[0m\u001b[0mself\u001b[0m\u001b[0;34m.\u001b[0m\u001b[0m__class__\u001b[0m\u001b[0;34m)\u001b[0m\u001b[0;34m)\u001b[0m\u001b[0;34m\u001b[0m\u001b[0m\n\u001b[0m\u001b[1;32m     14\u001b[0m \u001b[0;34m\u001b[0m\u001b[0m\n\u001b[1;32m     15\u001b[0m     \u001b[0;32mdef\u001b[0m \u001b[0mspares\u001b[0m\u001b[0;34m(\u001b[0m\u001b[0mself\u001b[0m\u001b[0;34m)\u001b[0m\u001b[0;34m:\u001b[0m\u001b[0;34m\u001b[0m\u001b[0m\n",
      "\u001b[0;31mNotImplementedError\u001b[0m: This <class '__main__.Bicycle'> cannot respond to"
     ]
    }
   ],
   "source": [
    "bike = Bicycle()"
   ]
  },
  {
   "cell_type": "code",
   "execution_count": 199,
   "metadata": {
    "collapsed": true
   },
   "outputs": [],
   "source": [
    "road = RoadBike()"
   ]
  },
  {
   "cell_type": "code",
   "execution_count": 201,
   "metadata": {
    "collapsed": false
   },
   "outputs": [],
   "source": [
    "road.spares()"
   ]
  },
  {
   "cell_type": "code",
   "execution_count": 202,
   "metadata": {
    "collapsed": false
   },
   "outputs": [
    {
     "data": {
      "text/plain": [
       "('21', '10-speed', 'pink')"
      ]
     },
     "execution_count": 202,
     "metadata": {},
     "output_type": "execute_result"
    }
   ],
   "source": [
    "road._tire_size, road._chain, road._tape_color"
   ]
  },
  {
   "cell_type": "code",
   "execution_count": 203,
   "metadata": {
    "collapsed": true
   },
   "outputs": [],
   "source": [
    "mtb = MountainBike()"
   ]
  },
  {
   "cell_type": "code",
   "execution_count": 205,
   "metadata": {
    "collapsed": false
   },
   "outputs": [],
   "source": [
    "mtb.spares()"
   ]
  },
  {
   "cell_type": "code",
   "execution_count": 206,
   "metadata": {
    "collapsed": false
   },
   "outputs": [
    {
     "data": {
      "text/plain": [
       "('21', '10-speed', 'Fox')"
      ]
     },
     "execution_count": 206,
     "metadata": {},
     "output_type": "execute_result"
    }
   ],
   "source": [
    "mtb._tire_size, mtb._chain, mtb._rear_shock"
   ]
  },
  {
   "cell_type": "markdown",
   "metadata": {},
   "source": [
    "- RoadBike 와 MountainBike 클래스가 비슷한 패턴을 따르고 있다\n",
    "- 하위 클래스 하나가 추가되면서 __init__ 메소드에 상위 클래스의 __init__ 호출을 하지 않았다면? -> spares 로 대체"
   ]
  },
  {
   "cell_type": "code",
   "execution_count": 211,
   "metadata": {
    "collapsed": true
   },
   "outputs": [],
   "source": [
    "class RecumbentBike(Bicycle):\n",
    "    _falg = ''\n",
    "    \n",
    "    def __init__(self, **kwargs):\n",
    "        self._flag = kwargs.get('flag', '')\n",
    "    \n",
    "    def spares(self):\n",
    "        self._flag = 'yellow'\n",
    "        # super().spares()\n",
    "    \n",
    "    @property\n",
    "    def default_chain(self):\n",
    "        return '9-speed'\n",
    "    \n",
    "    @property\n",
    "    def default_tire_size(self):\n",
    "        return '28'\n",
    "    "
   ]
  },
  {
   "cell_type": "code",
   "execution_count": 212,
   "metadata": {
    "collapsed": true
   },
   "outputs": [],
   "source": [
    "recum = RecumbentBike(flag='orange')"
   ]
  },
  {
   "cell_type": "code",
   "execution_count": 213,
   "metadata": {
    "collapsed": true
   },
   "outputs": [],
   "source": [
    "recum.spares()"
   ]
  },
  {
   "cell_type": "code",
   "execution_count": 214,
   "metadata": {
    "collapsed": false
   },
   "outputs": [
    {
     "ename": "AttributeError",
     "evalue": "'RecumbentBike' object has no attribute '_tire_size'",
     "output_type": "error",
     "traceback": [
      "\u001b[0;31m---------------------------------------------------------------------------\u001b[0m",
      "\u001b[0;31mAttributeError\u001b[0m                            Traceback (most recent call last)",
      "\u001b[0;32m<ipython-input-214-41f55f6547fd>\u001b[0m in \u001b[0;36m<module>\u001b[0;34m()\u001b[0m\n\u001b[0;32m----> 1\u001b[0;31m \u001b[0mrecum\u001b[0m\u001b[0;34m.\u001b[0m\u001b[0m_tire_size\u001b[0m\u001b[0;34m\u001b[0m\u001b[0m\n\u001b[0m",
      "\u001b[0;31mAttributeError\u001b[0m: 'RecumbentBike' object has no attribute '_tire_size'"
     ]
    }
   ],
   "source": [
    "recum._tire_size"
   ]
  },
  {
   "cell_type": "markdown",
   "metadata": {},
   "source": [
    "- super() 의 메서드를 명시적으로 호출하지 않는 경우 이런 문제는 반복될 수 있다 \n",
    "\n",
    "6.5.2 훅 메세지를 이용해서 하위 클래스의 결합 없애기 \n"
   ]
  },
  {
   "cell_type": "code",
   "execution_count": 233,
   "metadata": {
    "collapsed": false
   },
   "outputs": [],
   "source": [
    "class Bicycle:\n",
    "    def __init__(self, **kwargs):\n",
    "        self._size = kwargs.get('size', '')\n",
    "        self._chain = kwargs.get('chain', self.default_chain)\n",
    "        self._tire_size = kwargs.get('tire_size', self.default_tire_size)\n",
    "        self.post_init(**kwargs)\n",
    "        \n",
    "    @property\n",
    "    def default_chain(self):\n",
    "        return '10-speed'\n",
    "    \n",
    "    @property\n",
    "    def default_tire_size(self):\n",
    "        return '26'\n",
    "    \n",
    "    def spares(self):\n",
    "        self._tire_size = '21'\n",
    "        self._chain = '10-speed'\n",
    "        \n",
    "        self.local_spares()\n",
    "    \n",
    "    def post_init(self, **kwargs):\n",
    "        pass\n",
    "    \n",
    "    def local_spares(self):\n",
    "        pass\n",
    "    \n",
    "    \n",
    "class RoadBike(Bicycle):\n",
    "    @property\n",
    "    def default_tire_size(self):\n",
    "        return '23'\n",
    "    \n",
    "    def post_init(self, **kwargs):\n",
    "        self._tape_color = kwargs.get('tape_color', '')\n",
    "    \n",
    "    def local_spares(self):\n",
    "        self._tape_color = 'pink'\n",
    "    \n",
    "    \n",
    "class MountainBike(Bicycle):\n",
    "    def post_init(self, **kwargs):\n",
    "        self._front_shock = kwargs.get('front_shock', '')\n",
    "        self._rear_shock = kwargs.get('rear_shock', '')\n",
    "        \n",
    "    @property\n",
    "    def default_tire_size(self):\n",
    "        return '2.1'\n",
    "    \n",
    "    def local_spares(self):\n",
    "        self._rear_shock = 'Fox'\n"
   ]
  },
  {
   "cell_type": "code",
   "execution_count": 237,
   "metadata": {
    "collapsed": false
   },
   "outputs": [
    {
     "name": "stdout",
     "output_type": "stream",
     "text": [
      "23 10-speed pink\n",
      "21 10-speed pink\n"
     ]
    }
   ],
   "source": [
    "road = RoadBike(tape_color='pink')\n",
    "print(road._tire_size, road._chain, road._tape_color)\n",
    "road.spares()\n",
    "print(road._tire_size, road._chain, road._tape_color)"
   ]
  },
  {
   "cell_type": "code",
   "execution_count": 238,
   "metadata": {
    "collapsed": false
   },
   "outputs": [
    {
     "name": "stdout",
     "output_type": "stream",
     "text": [
      "2.1 10-speed Fox\n",
      "21 10-speed Fox\n"
     ]
    }
   ],
   "source": [
    "mtb = MountainBike(rear_shock='Fox')\n",
    "print(mtb._tire_size, mtb._chain, mtb._rear_shock)\n",
    "mtb.spares()\n",
    "print(mtb._tire_size, mtb._chain, mtb._rear_shock)"
   ]
  },
  {
   "cell_type": "markdown",
   "metadata": {},
   "source": [
    "6.6 요약 \n",
    "- 추상화된 상위 클래스를 만드는 가장 좋은 방법은 구체적인 하위 클래스의 코드를 위로 올리는 것\n",
    "- 추상 클래스는 템플릿 메서드 패턴을 사용해서 하위 클래스가 자신의 특수한 내용을 추가할 수 있도록 하자\n",
    "- 훅 메서드를 이용해서 하위 클래스가 추사오하 알고리즘을 알지 못해도 자신의 특수한 내용을 추가할 수 있다\n",
    "- 잘 디자인된 상속 관계는 새로운 하위 클래스를 통해 쉽게 확장할 수 있다"
   ]
  },
  {
   "cell_type": "code",
   "execution_count": null,
   "metadata": {
    "collapsed": true
   },
   "outputs": [],
   "source": []
  },
  {
   "cell_type": "code",
   "execution_count": null,
   "metadata": {
    "collapsed": true
   },
   "outputs": [],
   "source": []
  },
  {
   "cell_type": "code",
   "execution_count": null,
   "metadata": {
    "collapsed": true
   },
   "outputs": [],
   "source": []
  },
  {
   "cell_type": "code",
   "execution_count": null,
   "metadata": {
    "collapsed": true
   },
   "outputs": [],
   "source": []
  }
 ],
 "metadata": {
  "kernelspec": {
   "display_name": "Python 3",
   "language": "python",
   "name": "python3"
  },
  "language_info": {
   "codemirror_mode": {
    "name": "ipython",
    "version": 3
   },
   "file_extension": ".py",
   "mimetype": "text/x-python",
   "name": "python",
   "nbconvert_exporter": "python",
   "pygments_lexer": "ipython3",
   "version": "3.5.1"
  }
 },
 "nbformat": 4,
 "nbformat_minor": 1
}
